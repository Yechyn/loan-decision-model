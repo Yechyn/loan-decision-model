{
 "cells": [
  {
   "cell_type": "markdown",
   "metadata": {
    "id": "z_Y_PVBcQryd"
   },
   "source": [
    "# Modeling XGBoost"
   ]
  },
  {
   "cell_type": "markdown",
   "metadata": {},
   "source": [
    "XGBoost is selected because it's one of the most powerful and widely-used algorithms for structured tabular data, especially in classification problems like loan default prediction. It builds an ensemble of decision trees using gradient boosting, which allows it to capture complex non-linear relationships and feature interactions that simpler models might miss."
   ]
  },
  {
   "cell_type": "markdown",
   "metadata": {},
   "source": [
    "### Import data"
   ]
  },
  {
   "cell_type": "code",
   "metadata": {
    "colab": {
     "base_uri": "https://localhost:8080/",
     "height": 330
    },
    "executionInfo": {
     "elapsed": 9163,
     "status": "ok",
     "timestamp": 1725039330594,
     "user": {
      "displayName": "Andrea Baroni",
      "userId": "13443912204230378793"
     },
     "user_tz": -60
    },
    "id": "s4nA0S2YQryd",
    "outputId": "01f12dc3-f69b-44ef-e581-1c4405346686",
    "ExecuteTime": {
     "end_time": "2025-04-18T12:03:39.297371Z",
     "start_time": "2025-04-18T12:03:39.172698Z"
    }
   },
   "source": [
    "#Import libraries\n",
    "import pandas as pd\n",
    "import numpy as np\n",
    "from sklearn.metrics import accuracy_score, precision_score, recall_score, f1_score, roc_auc_score, confusion_matrix\n",
    "import matplotlib.pyplot as plt\n",
    "from sklearn.metrics import roc_curve, auc, roc_auc_score,classification_report\n",
    "from sklearn.metrics import mean_absolute_error, mean_squared_error, r2_score\n",
    "from xgboost import XGBClassifier\n",
    "from sklearn.model_selection import RandomizedSearchCV\n",
    "import joblib\n",
    "\n",
    "pd.set_option('display.max_columns', None)\n",
    "pd.set_option('display.max_rows', None)\n",
    "\n",
    "# Read data that was exported from previous session\n",
    "df = pd.read_csv(\"../processed/loan_data_baseline_ready.csv\")\n",
    "df.head()"
   ],
   "outputs": [
    {
     "data": {
      "text/plain": [
       "   loan_amnt  int_rate  installment  grade  emp_length home_ownership  \\\n",
       "0     4000.0     13.08       134.93      1        10.0       MORTGAGE   \n",
       "1    24000.0      9.16       500.07      1         6.0           RENT   \n",
       "2     5000.0     10.49       162.49      1        10.0       MORTGAGE   \n",
       "3    24000.0     11.05       522.42      1        10.0       MORTGAGE   \n",
       "4    14000.0     13.59       322.79      2        10.0       MORTGAGE   \n",
       "\n",
       "   annual_inc verification_status loan_status             purpose    dti  \\\n",
       "0     48000.0     Source Verified     Current    home_improvement  20.25   \n",
       "1     57000.0     Source Verified     Current         credit_card  25.33   \n",
       "2     55000.0        Not Verified  Fully Paid         credit_card   7.22   \n",
       "3     43500.0        Not Verified     Current  debt_consolidation  24.55   \n",
       "4     48000.0     Source Verified  Fully Paid  debt_consolidation  24.30   \n",
       "\n",
       "   loan_default  \n",
       "0             0  \n",
       "1             0  \n",
       "2             0  \n",
       "3             0  \n",
       "4             0  "
      ],
      "text/html": [
       "<div>\n",
       "<style scoped>\n",
       "    .dataframe tbody tr th:only-of-type {\n",
       "        vertical-align: middle;\n",
       "    }\n",
       "\n",
       "    .dataframe tbody tr th {\n",
       "        vertical-align: top;\n",
       "    }\n",
       "\n",
       "    .dataframe thead th {\n",
       "        text-align: right;\n",
       "    }\n",
       "</style>\n",
       "<table border=\"1\" class=\"dataframe\">\n",
       "  <thead>\n",
       "    <tr style=\"text-align: right;\">\n",
       "      <th></th>\n",
       "      <th>loan_amnt</th>\n",
       "      <th>int_rate</th>\n",
       "      <th>installment</th>\n",
       "      <th>grade</th>\n",
       "      <th>emp_length</th>\n",
       "      <th>home_ownership</th>\n",
       "      <th>annual_inc</th>\n",
       "      <th>verification_status</th>\n",
       "      <th>loan_status</th>\n",
       "      <th>purpose</th>\n",
       "      <th>dti</th>\n",
       "      <th>loan_default</th>\n",
       "    </tr>\n",
       "  </thead>\n",
       "  <tbody>\n",
       "    <tr>\n",
       "      <th>0</th>\n",
       "      <td>4000.0</td>\n",
       "      <td>13.08</td>\n",
       "      <td>134.93</td>\n",
       "      <td>1</td>\n",
       "      <td>10.0</td>\n",
       "      <td>MORTGAGE</td>\n",
       "      <td>48000.0</td>\n",
       "      <td>Source Verified</td>\n",
       "      <td>Current</td>\n",
       "      <td>home_improvement</td>\n",
       "      <td>20.25</td>\n",
       "      <td>0</td>\n",
       "    </tr>\n",
       "    <tr>\n",
       "      <th>1</th>\n",
       "      <td>24000.0</td>\n",
       "      <td>9.16</td>\n",
       "      <td>500.07</td>\n",
       "      <td>1</td>\n",
       "      <td>6.0</td>\n",
       "      <td>RENT</td>\n",
       "      <td>57000.0</td>\n",
       "      <td>Source Verified</td>\n",
       "      <td>Current</td>\n",
       "      <td>credit_card</td>\n",
       "      <td>25.33</td>\n",
       "      <td>0</td>\n",
       "    </tr>\n",
       "    <tr>\n",
       "      <th>2</th>\n",
       "      <td>5000.0</td>\n",
       "      <td>10.49</td>\n",
       "      <td>162.49</td>\n",
       "      <td>1</td>\n",
       "      <td>10.0</td>\n",
       "      <td>MORTGAGE</td>\n",
       "      <td>55000.0</td>\n",
       "      <td>Not Verified</td>\n",
       "      <td>Fully Paid</td>\n",
       "      <td>credit_card</td>\n",
       "      <td>7.22</td>\n",
       "      <td>0</td>\n",
       "    </tr>\n",
       "    <tr>\n",
       "      <th>3</th>\n",
       "      <td>24000.0</td>\n",
       "      <td>11.05</td>\n",
       "      <td>522.42</td>\n",
       "      <td>1</td>\n",
       "      <td>10.0</td>\n",
       "      <td>MORTGAGE</td>\n",
       "      <td>43500.0</td>\n",
       "      <td>Not Verified</td>\n",
       "      <td>Current</td>\n",
       "      <td>debt_consolidation</td>\n",
       "      <td>24.55</td>\n",
       "      <td>0</td>\n",
       "    </tr>\n",
       "    <tr>\n",
       "      <th>4</th>\n",
       "      <td>14000.0</td>\n",
       "      <td>13.59</td>\n",
       "      <td>322.79</td>\n",
       "      <td>2</td>\n",
       "      <td>10.0</td>\n",
       "      <td>MORTGAGE</td>\n",
       "      <td>48000.0</td>\n",
       "      <td>Source Verified</td>\n",
       "      <td>Fully Paid</td>\n",
       "      <td>debt_consolidation</td>\n",
       "      <td>24.30</td>\n",
       "      <td>0</td>\n",
       "    </tr>\n",
       "  </tbody>\n",
       "</table>\n",
       "</div>"
      ]
     },
     "execution_count": 3,
     "metadata": {},
     "output_type": "execute_result"
    }
   ],
   "execution_count": 3
  },
  {
   "cell_type": "markdown",
   "metadata": {},
   "source": [
    "### Feature selection and Data Splitting"
   ]
  },
  {
   "cell_type": "code",
   "metadata": {
    "ExecuteTime": {
     "end_time": "2025-04-18T12:03:41.492319Z",
     "start_time": "2025-04-18T12:03:41.428380Z"
    }
   },
   "source": [
    "# 1. Select features and target\n",
    "X = df.drop(columns=[\"loan_status\", \"loan_default\"])\n",
    "y = df[\"loan_default\"]\n",
    "\n",
    "# 3. Encode categorical features\n",
    "from sklearn.preprocessing import LabelEncoder\n",
    "\n",
    "categorical_cols = X.select_dtypes(include=\"object\").columns\n",
    "X_encoded = X.copy()\n",
    "\n",
    "for col in categorical_cols:\n",
    "    le = LabelEncoder()\n",
    "    X_encoded[col] = le.fit_transform(X_encoded[col])\n",
    "\n"
   ],
   "outputs": [],
   "execution_count": 4
  },
  {
   "cell_type": "code",
   "metadata": {
    "ExecuteTime": {
     "end_time": "2025-04-18T12:03:42.115947Z",
     "start_time": "2025-04-18T12:03:42.068886Z"
    }
   },
   "source": [
    "# 4. Train-test split\n",
    "from sklearn.model_selection import train_test_split\n",
    "\n",
    "X_train, X_test, y_train, y_test = train_test_split(\n",
    "    X_encoded, y, test_size=0.2, stratify=y, random_state=42\n",
    ")\n",
    "\n",
    "# Print data shapes\n",
    "print(\"Training Data Shape:\", X_train.shape)\n",
    "print(\"Test Data Shape:\", X_test.shape)"
   ],
   "outputs": [
    {
     "name": "stdout",
     "output_type": "stream",
     "text": [
      "Training Data Shape: (80000, 10)\n",
      "Test Data Shape: (20000, 10)\n"
     ]
    }
   ],
   "execution_count": 5
  },
  {
   "cell_type": "markdown",
   "metadata": {},
   "source": [
    "### Basic XGBoost Model training"
   ]
  },
  {
   "cell_type": "code",
   "metadata": {
    "ExecuteTime": {
     "end_time": "2025-04-18T12:03:44.191101Z",
     "start_time": "2025-04-18T12:03:43.864615Z"
    }
   },
   "source": [
    "# Class imbalance ratio\n",
    "scale_pos_weight = (y_train == 0).sum() / (y_train == 1).sum()\n",
    "\n",
    "# Basic XGBoost model\n",
    "model = XGBClassifier(\n",
    "    eval_metric=\"logloss\",\n",
    "    scale_pos_weight=scale_pos_weight,\n",
    "    random_state=42\n",
    ")\n",
    "\n",
    "# Train\n",
    "model.fit(X_train, y_train)\n",
    "\n",
    "# Predict & evaluate\n",
    "y_pred = model.predict(X_test)\n",
    "y_proba = model.predict_proba(X_test)[:, 1]\n",
    "\n",
    "print(\"Classification Report:\\n\", classification_report(y_test, y_pred))\n",
    "print(\"ROC-AUC Score:\", roc_auc_score(y_test, y_proba))"
   ],
   "outputs": [
    {
     "name": "stdout",
     "output_type": "stream",
     "text": [
      "Classification Report:\n",
      "               precision    recall  f1-score   support\n",
      "\n",
      "           0       0.92      0.69      0.79     17413\n",
      "           1       0.23      0.62      0.33      2587\n",
      "\n",
      "    accuracy                           0.68     20000\n",
      "   macro avg       0.58      0.65      0.56     20000\n",
      "weighted avg       0.83      0.68      0.73     20000\n",
      "\n",
      "ROC-AUC Score: 0.715140248508289\n"
     ]
    }
   ],
   "execution_count": 6
  },
  {
   "cell_type": "markdown",
   "metadata": {},
   "source": [
    "The model shows strong potential by capturing a majority of actual defaults, and already better than baseline model. However, its low precision indicates many false positives, suggesting that hyperparameter tuning is needed to improve its balance and overall performance"
   ]
  },
  {
   "cell_type": "markdown",
   "metadata": {},
   "source": [
    "### XGBoost with hyperparameter tuning"
   ]
  },
  {
   "cell_type": "code",
   "metadata": {
    "ExecuteTime": {
     "end_time": "2025-04-18T12:04:25.777993Z",
     "start_time": "2025-04-18T12:04:17.693398Z"
    }
   },
   "source": [
    "# Define base model with class imbalance handling\n",
    "xgb = XGBClassifier(\n",
    "    eval_metric=\"logloss\",\n",
    "    scale_pos_weight=(y_train == 0).sum() / (y_train == 1).sum(),\n",
    "    random_state=42\n",
    ")\n",
    "# Adding hyperparameter grid\n",
    "param_grid = {\n",
    "    \"n_estimators\": [100, 200, 300],\n",
    "    \"max_depth\": [3, 5, 7],\n",
    "    \"learning_rate\": [0.01, 0.1, 0.2],\n",
    "    \"subsample\": [0.8, 1],\n",
    "    \"colsample_bytree\": [0.8, 1]\n",
    "}\n",
    "\n",
    "search = RandomizedSearchCV(xgb, param_distributions=param_grid,\n",
    "                            scoring=\"roc_auc\", cv=3, n_iter=10,\n",
    "                            verbose=1, random_state=42, n_jobs=-1)\n",
    "\n",
    "search.fit(X_train, y_train)\n",
    "best_model = search.best_estimator_\n",
    "# Save the trained model to use in the real-time app\n",
    "joblib.dump(best_model, \"../../app/model_baseline.pkl\")"
   ],
   "outputs": [
    {
     "name": "stdout",
     "output_type": "stream",
     "text": [
      "Fitting 3 folds for each of 10 candidates, totalling 30 fits\n"
     ]
    },
    {
     "data": {
      "text/plain": [
       "['../../app/model_baseline.pkl']"
      ]
     },
     "execution_count": 8,
     "metadata": {},
     "output_type": "execute_result"
    }
   ],
   "execution_count": 8
  },
  {
   "cell_type": "code",
   "metadata": {
    "ExecuteTime": {
     "end_time": "2025-04-18T12:04:40.648718Z",
     "start_time": "2025-04-18T12:04:40.593408Z"
    }
   },
   "source": [
    "# Calculate performance metrics\n",
    "y_pred = best_model.predict(X_test)\n",
    "y_proba = best_model.predict_proba(X_test)[:, 1]\n",
    "\n",
    "print(\"Classification Report:\\n\", classification_report(y_test, y_pred))\n",
    "print(\"ROC-AUC Score:\", roc_auc_score(y_test, y_proba))"
   ],
   "outputs": [
    {
     "name": "stdout",
     "output_type": "stream",
     "text": [
      "Classification Report:\n",
      "               precision    recall  f1-score   support\n",
      "\n",
      "           0       0.94      0.64      0.76     17413\n",
      "           1       0.22      0.70      0.34      2587\n",
      "\n",
      "    accuracy                           0.65     20000\n",
      "   macro avg       0.58      0.67      0.55     20000\n",
      "weighted avg       0.84      0.65      0.71     20000\n",
      "\n",
      "ROC-AUC Score: 0.7320826242011449\n"
     ]
    }
   ],
   "execution_count": 9
  },
  {
   "cell_type": "code",
   "metadata": {
    "ExecuteTime": {
     "end_time": "2025-04-18T12:04:43.650438Z",
     "start_time": "2025-04-18T12:04:41.306364Z"
    }
   },
   "source": [
    "from sklearn.model_selection import StratifiedKFold\n",
    "from sklearn.model_selection import cross_val_score\n",
    "\n",
    "cv = StratifiedKFold(n_splits=5, shuffle=True, random_state=42)\n",
    "cv_scores = cross_val_score(best_model, X_train, y_train, cv=cv, scoring=\"roc_auc\")\n",
    "\n",
    "# Compute ROC curve\n",
    "fpr, tpr, thresholds = roc_curve(y_test, y_proba)\n",
    "auc_score = roc_auc_score(y_test, y_proba)\n",
    "\n",
    "# Plot\n",
    "plt.figure(figsize=(8, 6))\n",
    "plt.plot(fpr, tpr, label=f'ROC Curve (AUC = {auc_score:.4f})', color='blue')\n",
    "plt.plot([0, 1], [0, 1], 'k--', label='Random Guess')\n",
    "plt.xlabel('False Positive Rate')\n",
    "plt.ylabel('True Positive Rate')\n",
    "plt.title('Receiver Operating Characteristic (ROC) Curve')\n",
    "plt.legend(loc='lower right')\n",
    "plt.grid(True)\n",
    "plt.show()\n",
    "\n",
    "print(f\"Stratified CV ROC-AUC Scores: {cv_scores}\")\n",
    "print(f\"Mean Stratified CV ROC-AUC: {np.mean(cv_scores):.4f}\")\n"
   ],
   "outputs": [
    {
     "data": {
      "text/plain": [
       "<Figure size 800x600 with 1 Axes>"
      ],
      "image/png": "[encoded data removed]"
     },
     "metadata": {},
     "output_type": "display_data"
    },
    {
     "name": "stdout",
     "output_type": "stream",
     "text": [
      "Stratified CV ROC-AUC Scores: [0.73404823 0.73585018 0.73160048 0.72797292 0.71766052]\n",
      "Mean Stratified CV ROC-AUC: 0.7294\n"
     ]
    }
   ],
   "execution_count": 10
  },
  {
   "cell_type": "markdown",
   "metadata": {},
   "source": [
    "###  Comparison Summary\n",
    "\n",
    "Compared to the baseline Logistic Regression model, the tuned XGBoost model achieved a higher ROC-AUC (0.732 vs. 0.703) and improved recall (70% vs. 65.6%), making it more effective at identifying defaulting borrowers. Precision remains low in both models, reflecting the challenge of false positives. However, XGBoost shows stronger overall performance and learning capacity. Further gains can be achieved through feature selection and engineering to help reduce noise and improve precision.\n",
    "\n",
    "\n"
   ]
  },
  {
   "metadata": {},
   "cell_type": "code",
   "outputs": [],
   "execution_count": null,
   "source": ""
  }
 ],
 "metadata": {
  "colab": {
   "provenance": []
  },
  "kernelspec": {
   "display_name": "Python 3 (ipykernel)",
   "language": "python",
   "name": "python3"
  },
  "language_info": {
   "codemirror_mode": {
    "name": "ipython",
    "version": 3
   },
   "file_extension": ".py",
   "mimetype": "text/x-python",
   "name": "python",
   "nbconvert_exporter": "python",
   "pygments_lexer": "ipython3",
   "version": "3.11.5"
  }
 },
 "nbformat": 4,
 "nbformat_minor": 4
}
