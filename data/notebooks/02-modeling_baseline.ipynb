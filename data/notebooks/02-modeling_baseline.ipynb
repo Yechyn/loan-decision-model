{
 "cells": [
  {
   "cell_type": "markdown",
   "metadata": {
    "id": "z_Y_PVBcQryd"
   },
   "source": [
    "# Modeling baseline"
   ]
  },
  {
   "cell_type": "markdown",
   "metadata": {},
   "source": [
    "### Import data"
   ]
  },
  {
   "cell_type": "code",
   "metadata": {
    "colab": {
     "base_uri": "https://localhost:8080/",
     "height": 330
    },
    "executionInfo": {
     "elapsed": 9163,
     "status": "ok",
     "timestamp": 1725039330594,
     "user": {
      "displayName": "Andrea Baroni",
      "userId": "13443912204230378793"
     },
     "user_tz": -60
    },
    "id": "s4nA0S2YQryd",
    "outputId": "01f12dc3-f69b-44ef-e581-1c4405346686",
    "ExecuteTime": {
     "end_time": "2025-04-15T15:20:11.298319Z",
     "start_time": "2025-04-15T15:20:10.789561Z"
    }
   },
   "source": [
    "#Import libraries\n",
    "import pandas as pd\n",
    "import numpy as np\n",
    "from sklearn.metrics import accuracy_score, precision_score, recall_score, f1_score, roc_auc_score, confusion_matrix\n",
    "import matplotlib.pyplot as plt\n",
    "from sklearn.metrics import roc_curve, auc, roc_auc_score\n",
    "from sklearn.metrics import mean_absolute_error, mean_squared_error, r2_score\n",
    "\n",
    "pd.set_option('display.max_columns', None)\n",
    "pd.set_option('display.max_rows', None)\n",
    "\n",
    "# Read data that was exported from previous session\n",
    "df = pd.read_csv(\"../processed/cleaned_loan_data.csv\")\n",
    "df.head()"
   ],
   "outputs": [
    {
     "data": {
      "text/plain": [
       "   loan_amnt  int_rate  installment  grade  emp_length home_ownership  \\\n",
       "0     4000.0     13.08       134.93      1        10.0       MORTGAGE   \n",
       "1    24000.0      9.16       500.07      1         6.0           RENT   \n",
       "2     5000.0     10.49       162.49      1        10.0       MORTGAGE   \n",
       "3    24000.0     11.05       522.42      1        10.0       MORTGAGE   \n",
       "4    14000.0     13.59       322.79      2        10.0       MORTGAGE   \n",
       "\n",
       "   annual_inc verification_status loan_status             purpose    dti  \n",
       "0     48000.0     Source Verified     Current    home_improvement  20.25  \n",
       "1     57000.0     Source Verified     Current         credit_card  25.33  \n",
       "2     55000.0        Not Verified  Fully Paid         credit_card   7.22  \n",
       "3     43500.0        Not Verified     Current  debt_consolidation  24.55  \n",
       "4     48000.0     Source Verified  Fully Paid  debt_consolidation  24.30  "
      ],
      "text/html": [
       "<div>\n",
       "<style scoped>\n",
       "    .dataframe tbody tr th:only-of-type {\n",
       "        vertical-align: middle;\n",
       "    }\n",
       "\n",
       "    .dataframe tbody tr th {\n",
       "        vertical-align: top;\n",
       "    }\n",
       "\n",
       "    .dataframe thead th {\n",
       "        text-align: right;\n",
       "    }\n",
       "</style>\n",
       "<table border=\"1\" class=\"dataframe\">\n",
       "  <thead>\n",
       "    <tr style=\"text-align: right;\">\n",
       "      <th></th>\n",
       "      <th>loan_amnt</th>\n",
       "      <th>int_rate</th>\n",
       "      <th>installment</th>\n",
       "      <th>grade</th>\n",
       "      <th>emp_length</th>\n",
       "      <th>home_ownership</th>\n",
       "      <th>annual_inc</th>\n",
       "      <th>verification_status</th>\n",
       "      <th>loan_status</th>\n",
       "      <th>purpose</th>\n",
       "      <th>dti</th>\n",
       "    </tr>\n",
       "  </thead>\n",
       "  <tbody>\n",
       "    <tr>\n",
       "      <th>0</th>\n",
       "      <td>4000.0</td>\n",
       "      <td>13.08</td>\n",
       "      <td>134.93</td>\n",
       "      <td>1</td>\n",
       "      <td>10.0</td>\n",
       "      <td>MORTGAGE</td>\n",
       "      <td>48000.0</td>\n",
       "      <td>Source Verified</td>\n",
       "      <td>Current</td>\n",
       "      <td>home_improvement</td>\n",
       "      <td>20.25</td>\n",
       "    </tr>\n",
       "    <tr>\n",
       "      <th>1</th>\n",
       "      <td>24000.0</td>\n",
       "      <td>9.16</td>\n",
       "      <td>500.07</td>\n",
       "      <td>1</td>\n",
       "      <td>6.0</td>\n",
       "      <td>RENT</td>\n",
       "      <td>57000.0</td>\n",
       "      <td>Source Verified</td>\n",
       "      <td>Current</td>\n",
       "      <td>credit_card</td>\n",
       "      <td>25.33</td>\n",
       "    </tr>\n",
       "    <tr>\n",
       "      <th>2</th>\n",
       "      <td>5000.0</td>\n",
       "      <td>10.49</td>\n",
       "      <td>162.49</td>\n",
       "      <td>1</td>\n",
       "      <td>10.0</td>\n",
       "      <td>MORTGAGE</td>\n",
       "      <td>55000.0</td>\n",
       "      <td>Not Verified</td>\n",
       "      <td>Fully Paid</td>\n",
       "      <td>credit_card</td>\n",
       "      <td>7.22</td>\n",
       "    </tr>\n",
       "    <tr>\n",
       "      <th>3</th>\n",
       "      <td>24000.0</td>\n",
       "      <td>11.05</td>\n",
       "      <td>522.42</td>\n",
       "      <td>1</td>\n",
       "      <td>10.0</td>\n",
       "      <td>MORTGAGE</td>\n",
       "      <td>43500.0</td>\n",
       "      <td>Not Verified</td>\n",
       "      <td>Current</td>\n",
       "      <td>debt_consolidation</td>\n",
       "      <td>24.55</td>\n",
       "    </tr>\n",
       "    <tr>\n",
       "      <th>4</th>\n",
       "      <td>14000.0</td>\n",
       "      <td>13.59</td>\n",
       "      <td>322.79</td>\n",
       "      <td>2</td>\n",
       "      <td>10.0</td>\n",
       "      <td>MORTGAGE</td>\n",
       "      <td>48000.0</td>\n",
       "      <td>Source Verified</td>\n",
       "      <td>Fully Paid</td>\n",
       "      <td>debt_consolidation</td>\n",
       "      <td>24.30</td>\n",
       "    </tr>\n",
       "  </tbody>\n",
       "</table>\n",
       "</div>"
      ]
     },
     "execution_count": 1,
     "metadata": {},
     "output_type": "execute_result"
    }
   ],
   "execution_count": 1
  },
  {
   "cell_type": "code",
   "metadata": {
    "ExecuteTime": {
     "end_time": "2025-04-15T15:20:11.434329Z",
     "start_time": "2025-04-15T15:20:11.401082Z"
    }
   },
   "source": [
    "df.loan_status.value_counts()"
   ],
   "outputs": [
    {
     "data": {
      "text/plain": [
       "loan_status\n",
       "Fully Paid                                             51189\n",
       "Current                                                35294\n",
       "Charged Off                                            12384\n",
       "Late (31-120 days)                                       535\n",
       "In Grace Period                                          329\n",
       "Late (16-30 days)                                         90\n",
       "Does not meet the credit policy. Status:Fully Paid        69\n",
       "Issued                                                    63\n",
       "Does not meet the credit policy. Status:Charged Off       33\n",
       "Default                                                   14\n",
       "Name: count, dtype: int64"
      ]
     },
     "execution_count": 2,
     "metadata": {},
     "output_type": "execute_result"
    }
   ],
   "execution_count": 2
  },
  {
   "cell_type": "markdown",
   "metadata": {},
   "source": [
    "### Data preprocessing and Feature selection "
   ]
  },
  {
   "cell_type": "code",
   "metadata": {
    "ExecuteTime": {
     "end_time": "2025-04-15T15:20:11.771481Z",
     "start_time": "2025-04-15T15:20:11.599015Z"
    }
   },
   "source": [
    "# Step 1 Fill missing values with median for all numerical features (For simplicity purposes)\n",
    "\n",
    "# Replace infinite values with NaN\n",
    "df.replace([np.inf, -np.inf], np.nan, inplace=True)\n",
    "\n",
    "# Apply median imputation only to numeric columns\n",
    "numeric_cols = df.select_dtypes(include=['float64', 'int64']).columns\n",
    "df[numeric_cols] = df[numeric_cols].fillna(df[numeric_cols].median())\n",
    "\n",
    "# Identify numeric columns\n",
    "numeric_cols = df.select_dtypes(include=['float64', 'int64']).columns\n",
    "\n",
    "# Apply median imputation only to numeric columns\n",
    "df[numeric_cols] = df[numeric_cols].fillna(df[numeric_cols].median())\n"
   ],
   "outputs": [],
   "execution_count": 3
  },
  {
   "cell_type": "code",
   "metadata": {
    "ExecuteTime": {
     "end_time": "2025-04-15T15:20:15.299992Z",
     "start_time": "2025-04-15T15:20:11.873507Z"
    }
   },
   "source": [
    "# Step 2 We will use Recursive Feature Elimination (RFE) with Logistic Regression to identify the most relevant features for predicting loan defaults.\n",
    "\n",
    "from sklearn.feature_selection import RFE\n",
    "from sklearn.linear_model import LogisticRegression\n",
    "from sklearn.preprocessing import StandardScaler\n",
    "\n",
    "#Broader Definition of the default\n",
    "default_statuses = ['Charged Off', 'Default', 'Late (31-120 days)']\n",
    "df['loan_default'] = df['loan_status'].isin(default_statuses).astype(int)\n",
    "\n",
    "# Save the cleaned and prepared dataset,this version will be reused for building enhanced models.\n",
    "df.to_csv(\"../processed/loan_data_baseline_ready.csv\", index=False)\n",
    "\n",
    "# Ensure 'loan_default' is removed from feature selection\n",
    "X_clean = df[numeric_cols].drop(columns=[\"loan_default\"], errors=\"ignore\")\n",
    "y = df[\"loan_default\"]\n",
    "\n",
    "# Check dataset before scaling\n",
    "print(f\"Original X_clean shape: {X_clean.shape}\")  # Debugging\n",
    "\n",
    "# Standardize numeric features\n",
    "scaler = StandardScaler()\n",
    "X_scaled_array = scaler.fit_transform(X_clean)  # Returns NumPy array\n",
    "\n",
    "# Convert back to DataFrame with correct column names\n",
    "X_scaled = pd.DataFrame(X_scaled_array, columns=X_clean.columns)\n",
    "\n",
    "# Initialize logistic regression model\n",
    "log_reg = LogisticRegression(class_weight=\"balanced\", max_iter=1000, solver=\"lbfgs\", n_jobs=-1)\n",
    "\n",
    "# Run RFE on DataFrame (not NumPy array)\n",
    "rfe = RFE(log_reg, n_features_to_select=10, step=5)\n",
    "rfe.fit(X_scaled, y)\n",
    "\n",
    "# Now correctly select features\n",
    "selected_features_rfe = X_scaled.columns[rfe.support_]\n",
    "print(\"Selected Features via RFE:\", selected_features_rfe)"
   ],
   "outputs": [
    {
     "name": "stdout",
     "output_type": "stream",
     "text": [
      "Original X_clean shape: (100000, 7)\n"
     ]
    },
    {
     "name": "stderr",
     "output_type": "stream",
     "text": [
      "C:\\Users\\Sergey\\PycharmProjects\\anti-fraud-app-project\\.venv\\Lib\\site-packages\\sklearn\\feature_selection\\_rfe.py:300: UserWarning: Found n_features_to_select=10 > n_features=7. There will be no feature selection and all features will be kept.\n",
      "  warnings.warn(\n"
     ]
    },
    {
     "name": "stdout",
     "output_type": "stream",
     "text": [
      "Selected Features via RFE: Index(['loan_amnt', 'int_rate', 'installment', 'grade', 'emp_length',\n",
      "       'annual_inc', 'dti'],\n",
      "      dtype='object')\n"
     ]
    }
   ],
   "execution_count": 4
  },
  {
   "cell_type": "markdown",
   "metadata": {},
   "source": [
    "### Data splitting"
   ]
  },
  {
   "cell_type": "code",
   "metadata": {
    "ExecuteTime": {
     "end_time": "2025-04-15T15:20:15.435184Z",
     "start_time": "2025-04-15T15:20:15.349686Z"
    }
   },
   "source": [
    "from sklearn.model_selection import train_test_split\n",
    "\n",
    "#Step 3 Model Development\n",
    "X_selected = X_clean[selected_features_rfe]  # Keep only selected features\n",
    "scaler = StandardScaler()\n",
    "X_scaled_array = scaler.fit_transform(X_selected)  # Scale only selected features\n",
    "X_scaled = pd.DataFrame(X_scaled_array, columns=selected_features_rfe)  # Convert back to DataFrame\n",
    "\n",
    "# Split data into 80% training and 20% test set\n",
    "X_train, X_test, y_train, y_test = train_test_split(X_scaled, y, test_size=0.2, random_state=42, stratify=y)\n",
    "\n",
    "# Print data shapes\n",
    "print(\"Training Data Shape:\", X_train.shape)\n",
    "print(\"Test Data Shape:\", X_test.shape)\n"
   ],
   "outputs": [
    {
     "name": "stdout",
     "output_type": "stream",
     "text": [
      "Training Data Shape: (80000, 7)\n",
      "Test Data Shape: (20000, 7)\n"
     ]
    }
   ],
   "execution_count": 5
  },
  {
   "cell_type": "markdown",
   "metadata": {},
   "source": [
    "### Baseline Model selection and training"
   ]
  },
  {
   "cell_type": "markdown",
   "metadata": {},
   "source": [
    "The Logistic Regression is chosen for the loan default prediction baseline model because it's a well-established, interpretable model that works effectively for binary classification tasks. It allows us to estimate the probability of default in a clear way, which is important in financial applications where explainability and trust are essential. Additionally, it performs reliably on structured tabular data like loan information, especially when combined with techniques like class balancing and SMOTE to handle data imbalance.\n",
    "\n"
   ]
  },
  {
   "cell_type": "code",
   "metadata": {
    "ExecuteTime": {
     "end_time": "2025-04-15T15:20:16.229121Z",
     "start_time": "2025-04-15T15:20:15.503115Z"
    }
   },
   "source": [
    "from imblearn.over_sampling import SMOTE\n",
    "# Initialize Logistic Regression Model\n",
    "model_1 = LogisticRegression(class_weight=\"balanced\", max_iter=1000, solver=\"lbfgs\", C=0.1)\n",
    "\n",
    "# Train Logistic Regression with class balancing\n",
    "model_1 = LogisticRegression(class_weight=\"balanced\", max_iter=1000, solver=\"lbfgs\", C=0.1)\n",
    "\n",
    "# Apply SMOTE to training data ( to balance the dataset )\n",
    "smote = SMOTE(random_state=42)\n",
    "X_train_resampled, y_train_resampled = smote.fit_resample(X_train, y_train)\n",
    "\n",
    "#Retrain the model on balanced data\n",
    "model_1.fit(X_train_resampled, y_train_resampled)\n",
    "\n",
    "# Print model coefficients\n",
    "print(\"Model_1 Training Complete.\")\n",
    "print(\"Intercept:\", model_1.intercept_)\n",
    "print(\"Coefficients:\", dict(zip(selected_features_rfe, model_1.coef_[0])))"
   ],
   "outputs": [
    {
     "name": "stdout",
     "output_type": "stream",
     "text": [
      "Model_1 Training Complete.\n",
      "Intercept: [-0.18948197]\n",
      "Coefficients: {'loan_amnt': np.float64(-0.10479601388709768), 'int_rate': np.float64(-0.5203507255695724), 'installment': np.float64(0.18734514771700145), 'grade': np.float64(1.1517334137726596), 'emp_length': np.float64(-0.007928683457522337), 'annual_inc': np.float64(-0.29647464648837346), 'dti': np.float64(-0.017966284728827525)}\n"
     ]
    }
   ],
   "execution_count": 6
  },
  {
   "cell_type": "markdown",
   "metadata": {},
   "source": [
    "### Baseline Model evaluation"
   ]
  },
  {
   "cell_type": "code",
   "metadata": {
    "ExecuteTime": {
     "end_time": "2025-04-15T15:20:17.159053Z",
     "start_time": "2025-04-15T15:20:17.148328Z"
    }
   },
   "source": [
    "# Predict probability of default\n",
    "y_pred_proba = model_1.predict_proba(X_test)[:, 1]  # Get probability of class 1 (default)\n",
    "threshold = 0.3\n",
    "# Predict default (1) or non-default (0)\n",
    "y_pred = model_1.predict(X_test)\n",
    "\n",
    "# Print first 5 predictions\n",
    "print(\"First 5 Default Probabilities:\", y_pred_proba[:5])\n",
    "print(\"First 5 Predicted Labels:\", y_pred[:5])"
   ],
   "outputs": [
    {
     "name": "stdout",
     "output_type": "stream",
     "text": [
      "First 5 Default Probabilities: [0.42015366 0.27984329 0.65073731 0.55101754 0.51432711]\n",
      "First 5 Predicted Labels: [0 0 1 1 1]\n"
     ]
    }
   ],
   "execution_count": 7
  },
  {
   "cell_type": "code",
   "metadata": {
    "ExecuteTime": {
     "end_time": "2025-04-15T15:20:17.218446Z",
     "start_time": "2025-04-15T15:20:17.189520Z"
    }
   },
   "source": [
    "# Calculate performance metrics\n",
    "accuracy = accuracy_score(y_test, y_pred)\n",
    "precision = precision_score(y_test, y_pred)\n",
    "recall = recall_score(y_test, y_pred)\n",
    "f1 = f1_score(y_test, y_pred)\n",
    "roc_auc = roc_auc_score(y_test, y_pred_proba)\n",
    "\n",
    "# Display the confusion matrix\n",
    "cm = confusion_matrix(y_test, y_pred)\n",
    "\n",
    "# Print results\n",
    "print(f'Accuracy: {accuracy:.4f}')\n",
    "print(f'Precision: {precision:.4f}')\n",
    "print(f'Recall: {recall:.4f}')\n",
    "print(f'F1-Score: {f1:.4f}')\n",
    "print(f'ROC-AUC: {roc_auc:.4f}')\n",
    "print(f'Confusion Matrix:\\n{cm}')"
   ],
   "outputs": [
    {
     "name": "stdout",
     "output_type": "stream",
     "text": [
      "Accuracy: 0.6460\n",
      "Precision: 0.2151\n",
      "Recall: 0.6560\n",
      "F1-Score: 0.3240\n",
      "ROC-AUC: 0.7030\n",
      "Confusion Matrix:\n",
      "[[11222  6191]\n",
      " [  890  1697]]\n"
     ]
    }
   ],
   "execution_count": 8
  },
  {
   "cell_type": "code",
   "metadata": {
    "ExecuteTime": {
     "end_time": "2025-04-15T15:20:17.969160Z",
     "start_time": "2025-04-15T15:20:17.285931Z"
    }
   },
   "source": [
    "from sklearn.model_selection import StratifiedKFold\n",
    "from sklearn.model_selection import cross_val_score\n",
    "\n",
    "cv = StratifiedKFold(n_splits=5, shuffle=True, random_state=42)\n",
    "cv_scores = cross_val_score(model_1, X_train, y_train, cv=cv, scoring=\"roc_auc\")\n",
    "\n",
    "# Compute ROC curve\n",
    "fpr, tpr, thresholds = roc_curve(y_test, y_pred_proba)\n",
    "auc_score = roc_auc_score(y_test, y_pred_proba)\n",
    "\n",
    "# Plot\n",
    "plt.figure(figsize=(8, 6))\n",
    "plt.plot(fpr, tpr, label=f'ROC Curve (AUC = {auc_score:.4f})', color='blue')\n",
    "plt.plot([0, 1], [0, 1], 'k--', label='Random Guess')\n",
    "plt.xlabel('False Positive Rate')\n",
    "plt.ylabel('True Positive Rate')\n",
    "plt.title('Receiver Operating Characteristic (ROC) Curve')\n",
    "plt.legend(loc='lower right')\n",
    "plt.grid(True)\n",
    "plt.show()\n",
    "\n",
    "print(f\"Stratified CV ROC-AUC Scores: {cv_scores}\")\n",
    "print(f\"Mean Stratified CV ROC-AUC: {np.mean(cv_scores):.4f}\")\n"
   ],
   "outputs": [
    {
     "data": {
      "text/plain": [
       "<Figure size 800x600 with 1 Axes>"
      ],
      "image/png": "[encoded data removed]"
     },
     "metadata": {},
     "output_type": "display_data"
    },
    {
     "name": "stdout",
     "output_type": "stream",
     "text": [
      "Stratified CV ROC-AUC Scores: [0.70307966 0.69951972 0.70086939 0.69883097 0.68673277]\n",
      "Mean Stratified CV ROC-AUC: 0.6978\n"
     ]
    }
   ],
   "execution_count": 9
  },
  {
   "cell_type": "markdown",
   "metadata": {},
   "source": [
    "### Key Insights from the baseline model\n",
    "1. Baseline model has a strtong recall 0.656. It is catching most defaulters, which is good for risk management\n",
    "2. Precision is quite low, it is flagging too many good loans as bad. This may frustrate applicants or reduce profitability.\n",
    "3. There's a 70.3 % chance the baselime model correctly ranks a defaulter above a non-defaulter.\n",
    "\n",
    "In overall, the baseline model does a decent job spotting potential loan defaulters, correctly identifying about 70% of them overall. However, it still flags too many non-defaulters as risky, so it could benefit from further improvement such as hyperparameter tuning or model enhancement\n",
    "\n",
    "\n",
    "\n"
   ]
  },
  {
   "metadata": {},
   "cell_type": "code",
   "outputs": [],
   "execution_count": null,
   "source": ""
  }
 ],
 "metadata": {
  "colab": {
   "provenance": []
  },
  "kernelspec": {
   "display_name": "Python 3 (ipykernel)",
   "language": "python",
   "name": "python3"
  },
  "language_info": {
   "codemirror_mode": {
    "name": "ipython",
    "version": 3
   },
   "file_extension": ".py",
   "mimetype": "text/x-python",
   "name": "python",
   "nbconvert_exporter": "python",
   "pygments_lexer": "ipython3",
   "version": "3.11.5"
  }
 },
 "nbformat": 4,
 "nbformat_minor": 4
}
